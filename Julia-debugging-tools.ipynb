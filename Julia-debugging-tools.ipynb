{
 "cells": [
  {
   "cell_type": "markdown",
   "id": "8444cc47-73d9-48c3-9ad7-1ddcafd755db",
   "metadata": {},
   "source": [
    "BenchmarkTools.jl (@btime) or Chairmarks.jl (@b)"
   ]
  },
  {
   "cell_type": "code",
   "execution_count": 1,
   "id": "987d80c3-8fbd-4619-9c71-ad68f47df091",
   "metadata": {},
   "outputs": [
    {
     "name": "stdout",
     "output_type": "stream",
     "text": [
      "Detected IPython. Loading juliacall extension. See https://juliapy.github.io/PythonCall.jl/stable/compat/#IPython\n"
     ]
    }
   ],
   "source": [
    "from juliacall import Main as jl"
   ]
  },
  {
   "cell_type": "code",
   "execution_count": 2,
   "id": "3b6b2e8b-08a9-4545-86f1-90b7ec9ab2d0",
   "metadata": {},
   "outputs": [
    {
     "name": "stderr",
     "output_type": "stream",
     "text": [
      "WARNING: replacing module _ipython.\n"
     ]
    }
   ],
   "source": [
    "%load_ext juliacall"
   ]
  },
  {
   "cell_type": "code",
   "execution_count": 4,
   "id": "1d0f3db4-d214-41d6-a83c-bef67fc97d9b",
   "metadata": {},
   "outputs": [
    {
     "name": "stderr",
     "output_type": "stream",
     "text": [
      "    Updating registry at `~/.julia/registries/General.toml`\n",
      "   Resolving package versions...\n",
      "   Installed BenchmarkTools ─ v1.5.0\n",
      "    Updating `~/anaconda3/envs/julia_hep_2024/julia_env/Project.toml`\n",
      "  [6e4b80f9] + BenchmarkTools v1.5.0\n",
      "    Updating `~/anaconda3/envs/julia_hep_2024/julia_env/Manifest.toml`\n",
      "  [6e4b80f9] + BenchmarkTools v1.5.0\n",
      "  [9abbd945] + Profile\n",
      "Precompiling project...\n",
      "  ✓ BenchmarkTools\n",
      "  1 dependency successfully precompiled in 4 seconds. 123 already precompiled.\n"
     ]
    }
   ],
   "source": [
    "%%julia\n",
    "\n",
    "import Pkg; Pkg.add(\"BenchmarkTools\")\n",
    "using BenchmarkTools"
   ]
  },
  {
   "cell_type": "code",
   "execution_count": 8,
   "id": "d28feebe-91ff-4011-833d-bb541a560c3e",
   "metadata": {},
   "outputs": [
    {
     "name": "stderr",
     "output_type": "stream",
     "text": [
      "   Resolving package versions...\n",
      "  No Changes to `~/anaconda3/envs/julia_hep_2024/julia_env/Project.toml`\n",
      "  No Changes to `~/anaconda3/envs/julia_hep_2024/julia_env/Manifest.toml`\n"
     ]
    }
   ],
   "source": [
    "%%julia\n",
    "\n",
    "using Pkg\n",
    "Pkg.add(\"UnROOT\")\n",
    "using UnROOT\n",
    "using AwkwardArray"
   ]
  },
  {
   "cell_type": "code",
   "execution_count": 9,
   "id": "70c6274f-d6c7-46e7-b73d-c349ee2d159f",
   "metadata": {},
   "outputs": [
    {
     "data": {
      "text/plain": [
       " Row │ Electron_mass    nElectron  luminosityBlock  nMuon   Electron_phi     M ⋯\n",
       "     │ SubArray{Float3  UInt32     UInt32           UInt32  SubArray{Float3  F ⋯\n",
       "─────┼──────────────────────────────────────────────────────────────────────────\n",
       " 1   │ []               0          156              3       []               - ⋯\n",
       " 2   │ [0.00544,        4          156              0       [0.134, -1       2 ⋯\n",
       " 3   │ [-0.00609,       2          156              0       [2.18, 1.6       - ⋯\n",
       " 4   │ [-0.00123]       1          156              7       [-0.643]         - ⋯\n",
       " 5   │ [0.0117, 0       4          156              0       [1.01, -1.       1 ⋯\n",
       " 6   │ [-0.00183]       1          156              2       [-0.497]         - ⋯\n",
       " 7   │ [-0.00183]       1          156              1       [-1.47]          - ⋯\n",
       " 8   │ [-0.00216]       1          156              0       [-0.633]         - ⋯\n",
       " 9   │ [-0.0128,        4          156              0       [2.79, -2.       - ⋯\n",
       " 10  │ []               0          156              0       []               - ⋯\n",
       " 11  │ [-0.00119,       2          156              1       [2.28, -2.       0 ⋯\n",
       " 12  │ [0.00608,        3          156              2       [-1.31, -1       2 ⋯\n",
       " 13  │ [-0.00765,       4          156              0       [2.52, -3.       - ⋯\n",
       " 14  │ []               0          156              2       []               - ⋯\n",
       " 15  │ []               0          156              0       []               - ⋯\n",
       "  ⋮  │        ⋮             ⋮             ⋮           ⋮            ⋮           ⋱\n",
       "                                              27 columns and 299958 rows omitted\n"
      ]
     },
     "execution_count": 9,
     "metadata": {},
     "output_type": "execute_result"
    }
   ],
   "source": [
    "%%julia\n",
    "\n",
    "tree = ROOTFile(\"./data/SMHiggsToZZTo4L.root\")\n",
    "events = LazyTree(tree, \"Events\")"
   ]
  },
  {
   "cell_type": "code",
   "execution_count": 6,
   "id": "1bbb5341-9e8f-4c80-8e5e-7f081a8344f2",
   "metadata": {},
   "outputs": [
    {
     "name": "stdout",
     "output_type": "stream",
     "text": [
      "4\n"
     ]
    }
   ],
   "source": [
    "%%julia\n",
    "\n",
    "using Base.Threads\n",
    "println(Threads.nthreads())"
   ]
  },
  {
   "cell_type": "code",
   "execution_count": 11,
   "id": "bd1f3190-92a0-4444-a129-9fdb424c7283",
   "metadata": {},
   "outputs": [
    {
     "data": {
      "text/plain": [
       "main_looper (generic function with 1 method)"
      ]
     },
     "execution_count": 11,
     "metadata": {},
     "output_type": "execute_result"
    }
   ],
   "source": [
    "%%julia\n",
    "\n",
    "using LorentzVectorHEP\n",
    "using AwkwardArray\n",
    "using Base.Threads\n",
    "\n",
    "function main_looper(events)\n",
    "    array = AwkwardArray.PrimitiveArray{Float64}()\n",
    "    lock_obj = ReentrantLock()  # Create a lock object to control access to shared array\n",
    "\n",
    "    @threads for i in 1:length(events)\n",
    "        evt = events[i]\n",
    "\n",
    "        # Destructure the necessary fields from the event\n",
    "        (; Muon_charge, Muon_pt, Muon_eta, Muon_phi, Muon_mass) = evt\n",
    "\n",
    "        # Skip event if it doesn't meet the required conditions\n",
    "        if length(Muon_charge) != 4 || sum(Muon_charge) != 0\n",
    "            continue\n",
    "        end\n",
    "\n",
    "        # Create Lorentz vectors for the muons and calculate the Higgs mass\n",
    "        higgs_4vector = sum(LorentzVectorCyl.(Muon_pt, Muon_eta, Muon_phi, Muon_mass))\n",
    "        higgs_mass = mass(higgs_4vector)\n",
    "\n",
    "        # Use lock to safely push! into the shared array\n",
    "        lock(lock_obj)  # Explicitly lock before modifying shared data\n",
    "        try\n",
    "            push!(array, higgs_mass)\n",
    "        finally\n",
    "            unlock(lock_obj)  # Ensure the lock is always released\n",
    "        end\n",
    "    end\n",
    "\n",
    "    return array\n",
    "end"
   ]
  },
  {
   "cell_type": "code",
   "execution_count": 12,
   "id": "9e16efb9-f7f4-409b-b325-13efcc38da16",
   "metadata": {},
   "outputs": [
    {
     "name": "stdout",
     "output_type": "stream",
     "text": [
      "  0.294637 seconds (222.10 k allocations: 101.787 MiB, 5.02% gc time, 234.50% compilation time)\n"
     ]
    },
    {
     "data": {
      "text/plain": [
       "20525-element AwkwardArray.PrimitiveArray{Float64, Vector{Float64}, :default}:\n",
       " 125.12303161621094\n",
       " 123.90653991699219\n",
       " 124.15757751464844\n",
       " 122.6549301147461\n",
       " 125.26071166992188\n",
       " 124.77593994140625\n",
       " 124.20553588867188\n",
       " 124.42249298095703\n",
       " 110.03680419921875\n",
       " 124.46846008300781\n",
       "   ⋮\n",
       " 127.44519805908203\n",
       " 125.3969497680664\n",
       " 124.91043090820312\n",
       " 124.92266845703125\n",
       " 103.70930480957031\n",
       " 124.39176940917969\n",
       " 125.422119140625\n",
       " 125.07860565185547\n",
       " 123.24031829833984"
      ]
     },
     "execution_count": 12,
     "metadata": {},
     "output_type": "execute_result"
    }
   ],
   "source": [
    "%%julia\n",
    "\n",
    "array = @time main_looper(events)"
   ]
  },
  {
   "cell_type": "code",
   "execution_count": 13,
   "id": "23e565d0-e110-404a-8c86-363ce0996590",
   "metadata": {},
   "outputs": [
    {
     "name": "stdout",
     "output_type": "stream",
     "text": [
      "  36.089 ms (22960 allocations: 59.59 MiB)\n"
     ]
    },
    {
     "data": {
      "text/plain": [
       "20525-element AwkwardArray.PrimitiveArray{Float64, Vector{Float64}, :default}:\n",
       " 125.30791473388672\n",
       " 122.7776107788086\n",
       " 113.92278289794922\n",
       " 124.49745178222656\n",
       " 115.7300033569336\n",
       " 124.36397552490234\n",
       "  77.15567779541016\n",
       " 123.48483276367188\n",
       "  50.24703598022461\n",
       " 124.37024688720703\n",
       "   ⋮\n",
       " 127.44519805908203\n",
       " 125.3969497680664\n",
       " 124.91043090820312\n",
       " 124.92266845703125\n",
       " 103.70930480957031\n",
       " 124.39176940917969\n",
       " 125.422119140625\n",
       " 125.07860565185547\n",
       " 123.24031829833984"
      ]
     },
     "execution_count": 13,
     "metadata": {},
     "output_type": "execute_result"
    }
   ],
   "source": [
    "%%julia\n",
    "\n",
    "array = @btime main_looper(events)"
   ]
  },
  {
   "cell_type": "code",
   "execution_count": 15,
   "id": "93e948df-4e7b-4782-b53e-0690a8889c2d",
   "metadata": {},
   "outputs": [
    {
     "name": "stderr",
     "output_type": "stream",
     "text": [
      "   Resolving package versions...\n",
      "   Installed Chairmarks ─ v1.2.2\n",
      "    Updating `~/anaconda3/envs/julia_hep_2024/julia_env/Project.toml`\n",
      "  [0ca39b1e] + Chairmarks v1.2.2\n",
      "    Updating `~/anaconda3/envs/julia_hep_2024/julia_env/Manifest.toml`\n",
      "  [0ca39b1e] + Chairmarks v1.2.2\n",
      "Precompiling project...\n",
      "  ✓ Chairmarks\n",
      "  ✓ Chairmarks → StatisticsChairmarksExt\n",
      "  2 dependencies successfully precompiled in 5 seconds. 124 already precompiled.\n"
     ]
    }
   ],
   "source": [
    "%%julia\n",
    "\n",
    "import Pkg; Pkg.add(\"Chairmarks\")\n",
    "using Chairmarks"
   ]
  },
  {
   "cell_type": "code",
   "execution_count": 16,
   "id": "f5130e3f-eb9b-4136-994e-2e8ea10038d3",
   "metadata": {},
   "outputs": [
    {
     "data": {
      "text/plain": [
       "88.257 ms (23995 allocs: 87.739 MiB, 34.15% gc time)"
      ]
     },
     "execution_count": 16,
     "metadata": {},
     "output_type": "execute_result"
    }
   ],
   "source": [
    "%%julia\n",
    "\n",
    "array = @b main_looper(events)"
   ]
  },
  {
   "cell_type": "code",
   "execution_count": 17,
   "id": "3fd1d4dd-e771-4a38-96fb-d43fd56ad4fe",
   "metadata": {},
   "outputs": [
    {
     "data": {
      "text/plain": [
       "47.156 ms (23995 allocs: 87.739 MiB)"
      ]
     },
     "execution_count": 17,
     "metadata": {},
     "output_type": "execute_result"
    }
   ],
   "source": [
    "%%julia\n",
    "\n",
    "array = @b main_looper(events)"
   ]
  },
  {
   "cell_type": "code",
   "execution_count": null,
   "id": "e86f683f-6160-47cd-9c68-7887a709be7c",
   "metadata": {},
   "outputs": [],
   "source": []
  }
 ],
 "metadata": {
  "kernelspec": {
   "display_name": "Python 3 (ipykernel)",
   "language": "python",
   "name": "python3"
  },
  "language_info": {
   "codemirror_mode": {
    "name": "ipython",
    "version": 3
   },
   "file_extension": ".py",
   "mimetype": "text/x-python",
   "name": "python",
   "nbconvert_exporter": "python",
   "pygments_lexer": "ipython3",
   "version": "3.12.6"
  }
 },
 "nbformat": 4,
 "nbformat_minor": 5
}
