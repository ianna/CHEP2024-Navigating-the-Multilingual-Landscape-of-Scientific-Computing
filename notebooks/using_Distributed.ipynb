{
 "cells": [
  {
   "cell_type": "code",
   "execution_count": 1,
   "id": "d1d96693-2759-43e5-933d-02f3b18c3077",
   "metadata": {},
   "outputs": [
    {
     "name": "stdout",
     "output_type": "stream",
     "text": [
      "Detected IPython. Loading juliacall extension. See https://juliapy.github.io/PythonCall.jl/stable/compat/#IPython\n"
     ]
    }
   ],
   "source": [
    "from juliacall import Main as jl"
   ]
  },
  {
   "cell_type": "code",
   "execution_count": 2,
   "id": "ad253cac-5e28-4fed-b417-08cdc3daaeb1",
   "metadata": {},
   "outputs": [
    {
     "name": "stderr",
     "output_type": "stream",
     "text": [
      "WARNING: replacing module _ipython.\n"
     ]
    }
   ],
   "source": [
    "%load_ext juliacall"
   ]
  },
  {
   "cell_type": "code",
   "execution_count": 3,
   "id": "5b06f0b6-8fdd-43bc-96bf-9ab3a42547fd",
   "metadata": {},
   "outputs": [
    {
     "name": "stdout",
     "output_type": "stream",
     "text": [
      "4\n"
     ]
    }
   ],
   "source": [
    "%%julia\n",
    "\n",
    "using Base.Threads\n",
    "println(Threads.nthreads())  # This will print the number of threads"
   ]
  },
  {
   "cell_type": "code",
   "execution_count": 4,
   "id": "4242c3c8-28c4-4733-a24b-efe49a2c434e",
   "metadata": {},
   "outputs": [],
   "source": [
    "%%julia\n",
    "\n",
    "using Distributed"
   ]
  },
  {
   "cell_type": "code",
   "execution_count": 5,
   "id": "fbb0527d-3843-4073-aea3-83af6916e078",
   "metadata": {},
   "outputs": [
    {
     "name": "stdout",
     "output_type": "stream",
     "text": [
      "  0.334432 seconds (332.04 k allocations: 32.510 MiB, 4.33% gc time, 96.71% compilation time: 72% of which was recompilation)\n"
     ]
    },
    {
     "data": {
      "text/plain": [
       "ROOTFile with 2 entries and 17 streamers.\n",
       "../../../Run2012BC_DoubleMuParked_Muons.root\n",
       "└─ Events (TTree)\n",
       "   ├─ \"nMuon\"\n",
       "   ├─ \"Muon_pt\"\n",
       "   ├─ \"Muon_eta\"\n",
       "   ├─ \"Muon_phi\"\n",
       "   ├─ \"Muon_mass\"\n",
       "   └─ \"Muon_charge\"\n"
      ]
     },
     "execution_count": 5,
     "metadata": {},
     "output_type": "execute_result"
    }
   ],
   "source": [
    "%%julia\n",
    "\n",
    "using UnROOT\n",
    "\n",
    "@time big_tree = ROOTFile(\"../../../Run2012BC_DoubleMuParked_Muons.root\")"
   ]
  },
  {
   "cell_type": "code",
   "execution_count": 6,
   "id": "afe66cf3-d2e3-48b0-b150-94dbb4a78c07",
   "metadata": {},
   "outputs": [
    {
     "name": "stdout",
     "output_type": "stream",
     "text": [
      "  0.340308 seconds (284.70 k allocations: 19.563 MiB, 99.62% compilation time: 12% of which was recompilation)\n"
     ]
    },
    {
     "data": {
      "text/html": [
       "<p>61,540,413 rows × 6 columns (omitted printing of 61,540,403 rows)</p>\n",
       "<table>\n",
       "  <thead>\n",
       "    <tr class = \"header\">\n",
       "      <th class = \"rowNumber\" style = \"font-weight: bold; text-align: right;\"></th>\n",
       "      <th style = \"text-align: left;\">Muon_phi</th>\n",
       "      <th style = \"text-align: left;\">nMuon</th>\n",
       "      <th style = \"text-align: left;\">Muon_pt</th>\n",
       "      <th style = \"text-align: left;\">Muon_eta</th>\n",
       "      <th style = \"text-align: left;\">Muon_charge</th>\n",
       "      <th style = \"text-align: left;\">Muon_mass</th>\n",
       "    </tr>\n",
       "    <tr class = \"subheader headerLastRow\">\n",
       "      <th class = \"rowNumber\" style = \"font-weight: bold; text-align: right;\"></th>\n",
       "      <th style = \"text-align: left;\">SubArray{Float3</th>\n",
       "      <th style = \"text-align: left;\">UInt32</th>\n",
       "      <th style = \"text-align: left;\">SubArray{Float3</th>\n",
       "      <th style = \"text-align: left;\">SubArray{Float3</th>\n",
       "      <th style = \"text-align: left;\">SubArray{Int32,</th>\n",
       "      <th style = \"text-align: left;\">SubArray{Float3</th>\n",
       "    </tr>\n",
       "  </thead>\n",
       "  <tbody>\n",
       "    <tr>\n",
       "      <td class = \"rowNumber\" style = \"font-weight: bold; text-align: right;\">1</td>\n",
       "      <td style = \"text-align: left;\">[-0.0343, 2.54]</td>\n",
       "      <td style = \"text-align: left;\">2</td>\n",
       "      <td style = \"text-align: left;\">[10.8, 15.7]</td>\n",
       "      <td style = \"text-align: left;\">[1.07, -0.564]</td>\n",
       "      <td style = \"text-align: left;\">[-1, -1]</td>\n",
       "      <td style = \"text-align: left;\">[0.106, 0.106]</td>\n",
       "    </tr>\n",
       "    <tr>\n",
       "      <td class = \"rowNumber\" style = \"font-weight: bold; text-align: right;\">2</td>\n",
       "      <td style = \"text-align: left;\">[-0.275, 2.54]</td>\n",
       "      <td style = \"text-align: left;\">2</td>\n",
       "      <td style = \"text-align: left;\">[10.5, 16.3]</td>\n",
       "      <td style = \"text-align: left;\">[-0.428, 0.349]</td>\n",
       "      <td style = \"text-align: left;\">[1, -1]</td>\n",
       "      <td style = \"text-align: left;\">[0.106, 0.106]</td>\n",
       "    </tr>\n",
       "    <tr>\n",
       "      <td class = \"rowNumber\" style = \"font-weight: bold; text-align: right;\">3</td>\n",
       "      <td style = \"text-align: left;\">[-1.22]</td>\n",
       "      <td style = \"text-align: left;\">1</td>\n",
       "      <td style = \"text-align: left;\">[3.28]</td>\n",
       "      <td style = \"text-align: left;\">[2.21]</td>\n",
       "      <td style = \"text-align: left;\">[1]</td>\n",
       "      <td style = \"text-align: left;\">[0.106]</td>\n",
       "    </tr>\n",
       "    <tr>\n",
       "      <td class = \"rowNumber\" style = \"font-weight: bold; text-align: right;\">4</td>\n",
       "      <td style = \"text-align: left;\">[-2.08, 0.251, -2.01, -1.85]</td>\n",
       "      <td style = \"text-align: left;\">4</td>\n",
       "      <td style = \"text-align: left;\">[11.4, 17.6, 9.62, 3.5]</td>\n",
       "      <td style = \"text-align: left;\">[-1.59, -1.75, -1.59, -1.66]</td>\n",
       "      <td style = \"text-align: left;\">[1, 1, 1, 1]</td>\n",
       "      <td style = \"text-align: left;\">[0.106, 0.106, 0.106, 0.106]</td>\n",
       "    </tr>\n",
       "    <tr>\n",
       "      <td class = \"rowNumber\" style = \"font-weight: bold; text-align: right;\">5</td>\n",
       "      <td style = \"text-align: left;\">[-2.37, -2.31, -0.975, -0.773]</td>\n",
       "      <td style = \"text-align: left;\">4</td>\n",
       "      <td style = \"text-align: left;\">[3.28, 3.64, 32.9, 23.7]</td>\n",
       "      <td style = \"text-align: left;\">[-2.17, -2.18, -1.12, -1.16]</td>\n",
       "      <td style = \"text-align: left;\">[-1, -1, 1, 1]</td>\n",
       "      <td style = \"text-align: left;\">[0.106, 0.106, 0.106, 0.106]</td>\n",
       "    </tr>\n",
       "    <tr>\n",
       "      <td class = \"rowNumber\" style = \"font-weight: bold; text-align: right;\">6</td>\n",
       "      <td style = \"text-align: left;\">[-2.91, 2.46, -3.06]</td>\n",
       "      <td style = \"text-align: left;\">3</td>\n",
       "      <td style = \"text-align: left;\">[3.57, 4.57, 4.37]</td>\n",
       "      <td style = \"text-align: left;\">[-1.37, -0.703, -1.04]</td>\n",
       "      <td style = \"text-align: left;\">[-1, 1, -1]</td>\n",
       "      <td style = \"text-align: left;\">[0.106, 0.106, 0.106]</td>\n",
       "    </tr>\n",
       "    <tr>\n",
       "      <td class = \"rowNumber\" style = \"font-weight: bold; text-align: right;\">7</td>\n",
       "      <td style = \"text-align: left;\">[-0.0718, 3.09]</td>\n",
       "      <td style = \"text-align: left;\">2</td>\n",
       "      <td style = \"text-align: left;\">[57.6, 53.0]</td>\n",
       "      <td style = \"text-align: left;\">[-0.532, -1.0]</td>\n",
       "      <td style = \"text-align: left;\">[-1, 1]</td>\n",
       "      <td style = \"text-align: left;\">[0.106, 0.106]</td>\n",
       "    </tr>\n",
       "    <tr>\n",
       "      <td class = \"rowNumber\" style = \"font-weight: bold; text-align: right;\">8</td>\n",
       "      <td style = \"text-align: left;\">[-2.25, -2.18]</td>\n",
       "      <td style = \"text-align: left;\">2</td>\n",
       "      <td style = \"text-align: left;\">[11.3, 23.9]</td>\n",
       "      <td style = \"text-align: left;\">[-0.772, -0.701]</td>\n",
       "      <td style = \"text-align: left;\">[1, -1]</td>\n",
       "      <td style = \"text-align: left;\">[0.106, 0.106]</td>\n",
       "    </tr>\n",
       "    <tr>\n",
       "      <td class = \"rowNumber\" style = \"font-weight: bold; text-align: right;\">9</td>\n",
       "      <td style = \"text-align: left;\">[0.678, -2.03]</td>\n",
       "      <td style = \"text-align: left;\">2</td>\n",
       "      <td style = \"text-align: left;\">[10.2, 14.2]</td>\n",
       "      <td style = \"text-align: left;\">[0.442, 0.702]</td>\n",
       "      <td style = \"text-align: left;\">[-1, 1]</td>\n",
       "      <td style = \"text-align: left;\">[0.106, 0.106]</td>\n",
       "    </tr>\n",
       "    <tr>\n",
       "      <td class = \"rowNumber\" style = \"font-weight: bold; text-align: right;\">10</td>\n",
       "      <td style = \"text-align: left;\">[3.13, 3.02]</td>\n",
       "      <td style = \"text-align: left;\">2</td>\n",
       "      <td style = \"text-align: left;\">[11.5, 3.47]</td>\n",
       "      <td style = \"text-align: left;\">[2.34, 2.35]</td>\n",
       "      <td style = \"text-align: left;\">[-1, 1]</td>\n",
       "      <td style = \"text-align: left;\">[0.106, 0.106]</td>\n",
       "    </tr>\n",
       "  </tbody>\n",
       "</table>\n"
      ],
      "text/plain": [
       " Row │ Muon_phi         nMuon   Muon_pt          Muon_eta         Muon_charge  ⋯\n",
       "     │ SubArray{Float3  UInt32  SubArray{Float3  SubArray{Float3  SubArray{Int ⋯\n",
       "─────┼──────────────────────────────────────────────────────────────────────────\n",
       " 1   │ [-0.0343, 2.5    2       [10.8, 15.7]     [1.07, -0.564    [-1, -1]     ⋯\n",
       " 2   │ [-0.275, 2.54    2       [10.5, 16.3]     [-0.428, 0.34    [1, -1]      ⋯\n",
       " 3   │ [-1.22]          1       [3.28]           [2.21]           [1]          ⋯\n",
       " 4   │ [-2.08, 0.251    4       [11.4, 17.6,     [-1.59, -1.75    [1, 1, 1, 1] ⋯\n",
       " 5   │ [-2.37, -2.31    4       [3.28, 3.64,     [-2.17, -2.18    [-1, -1, 1,  ⋯\n",
       " 6   │ [-2.91, 2.46,    3       [3.57, 4.57,     [-1.37, -0.70    [-1, 1, -1]  ⋯\n",
       " 7   │ [-0.0718, 3.0    2       [57.6, 53.0]     [-0.532, -1.0    [-1, 1]      ⋯\n",
       " 8   │ [-2.25, -2.18    2       [11.3, 23.9]     [-0.772, -0.7    [1, -1]      ⋯\n",
       " 9   │ [0.678, -2.03    2       [10.2, 14.2]     [0.442, 0.702    [-1, 1]      ⋯\n",
       " 10  │ [3.13, 3.02]     2       [11.5, 3.47]     [2.34, 2.35]     [-1, 1]      ⋯\n",
       " 11  │ [-3.07, -0.38    2       [8.82, 17.6]     [1.65, 0.715]    [1, -1]      ⋯\n",
       " 12  │ [1.0, 0.024]     2       [14.6, 12.3]     [1.26, -1.29]    [1, 1]       ⋯\n",
       " 13  │ [-2.3, 0.34,     6       [35.6, 15.1,     [-2.15, 0.176    [1, 1, 1, -1 ⋯\n",
       " 14  │ [0.549, -2.27    3       [21.8, 9.55,     [-1.38, -0.77    [1, 1, 1]    ⋯\n",
       " 15  │ [1.85, 1.68]     2       [4.34, 13.1]     [-1.88, -2.0]    [1, -1]      ⋯\n",
       "  ⋮  │        ⋮           ⋮            ⋮                ⋮                ⋮     ⋱\n",
       "                                             2 columns and 61540398 rows omitted\n"
      ]
     },
     "execution_count": 6,
     "metadata": {},
     "output_type": "execute_result"
    }
   ],
   "source": [
    "%%julia\n",
    "\n",
    "@time events = LazyTree(big_tree, \"Events\")"
   ]
  },
  {
   "cell_type": "code",
   "execution_count": 7,
   "id": "91cb602c-81c7-401f-a8c5-0f24919eada8",
   "metadata": {},
   "outputs": [],
   "source": [
    "%%julia\n",
    "\n",
    "@everywhere include(\"DummyAwkwardModule.jl\")"
   ]
  },
  {
   "cell_type": "code",
   "execution_count": 8,
   "id": "8e9fb979-1388-4410-9334-81fdba397be8",
   "metadata": {},
   "outputs": [],
   "source": [
    "%%julia\n",
    "\n",
    "using .DummyAwkwardModule"
   ]
  },
  {
   "cell_type": "code",
   "execution_count": 9,
   "id": "db247b96-6db0-467e-8124-2825598542fe",
   "metadata": {},
   "outputs": [],
   "source": [
    "%%julia\n",
    "\n",
    "MuMu = @spawnat :any invariant_mass(events);"
   ]
  },
  {
   "cell_type": "code",
   "execution_count": 11,
   "id": "279e0b81-9310-402b-95ce-556dbc6c3e7f",
   "metadata": {},
   "outputs": [
    {
     "name": "stdout",
     "output_type": "stream",
     "text": [
      "  0.000005 seconds\n"
     ]
    },
    {
     "data": {
      "text/plain": [
       "5638149-element AwkwardArray.PrimitiveArray{Float64, Vector{Float64}, :default}:\n",
       " 113.64686584472656\n",
       "  88.29710388183594\n",
       "  88.33483123779297\n",
       "  91.27149963378906\n",
       "  93.55725860595703\n",
       "  90.91211700439453\n",
       "  89.15238952636719\n",
       "  82.29732513427734\n",
       "  94.57678985595703\n",
       "  89.23975372314453\n",
       "   ⋮\n",
       "  93.54075622558594\n",
       "  92.53641510009766\n",
       " 102.49768829345703\n",
       "  93.86892700195312\n",
       "  91.14122009277344\n",
       "  89.419189453125\n",
       "  90.84854125976562\n",
       "  90.79728698730469\n",
       "  86.4592056274414"
      ]
     },
     "execution_count": 11,
     "metadata": {},
     "output_type": "execute_result"
    }
   ],
   "source": [
    "%%julia\n",
    "\n",
    "@time fetch(MuMu)"
   ]
  }
 ],
 "metadata": {
  "kernelspec": {
   "display_name": "Python 3 (ipykernel)",
   "language": "python",
   "name": "python3"
  },
  "language_info": {
   "codemirror_mode": {
    "name": "ipython",
    "version": 3
   },
   "file_extension": ".py",
   "mimetype": "text/x-python",
   "name": "python",
   "nbconvert_exporter": "python",
   "pygments_lexer": "ipython3",
   "version": "3.12.6"
  }
 },
 "nbformat": 4,
 "nbformat_minor": 5
}
