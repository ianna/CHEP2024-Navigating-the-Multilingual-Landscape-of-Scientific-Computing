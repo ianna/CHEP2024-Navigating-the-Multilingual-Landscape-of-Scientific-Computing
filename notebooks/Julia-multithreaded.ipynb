{
 "cells": [
  {
   "cell_type": "markdown",
   "id": "ab30f168-8d5a-4019-824b-3a39694ff5be",
   "metadata": {},
   "source": [
    "# Multithreading Support\n",
    "\n",
    "Before starting Jupyter server we need to set `JULIA_NUM_THREADS` and `PYTHON_JULIACALL_HANDLE_SIGNALS` environment variables. This enables us to start Julia with multiple threads and use experimental multithreading support in JuliaCall:\n",
    "```bash\n",
    "export JULIA_NUM_THREADS=4\n",
    "export PYTHON_JULIACALL_HANDLE_SIGNALS=yes\n",
    "```"
   ]
  },
  {
   "cell_type": "code",
   "execution_count": null,
   "id": "e27fe783-5a2a-4adc-bb96-3c492bccd294",
   "metadata": {},
   "outputs": [],
   "source": [
    "from juliacall import Main as jl"
   ]
  },
  {
   "cell_type": "code",
   "execution_count": null,
   "id": "fe0f049b-d249-47df-bed3-d46487862517",
   "metadata": {},
   "outputs": [],
   "source": [
    "%load_ext juliacall"
   ]
  },
  {
   "cell_type": "code",
   "execution_count": null,
   "id": "151ff74f-575b-4fad-a3b2-c92069175579",
   "metadata": {},
   "outputs": [],
   "source": [
    "%%julia\n",
    "\n",
    "using Base.Threads\n",
    "println(Threads.nthreads())  # This will print the number of threads"
   ]
  },
  {
   "cell_type": "code",
   "execution_count": null,
   "id": "e56054f2-ee83-4ad9-8ec6-0c631b8bc86a",
   "metadata": {},
   "outputs": [],
   "source": [
    "%%julia\n",
    "\n",
    "using Pkg\n",
    "Pkg.add(\"UnROOT\")\n",
    "using UnROOT\n",
    "using AwkwardArray"
   ]
  },
  {
   "cell_type": "code",
   "execution_count": null,
   "id": "d0bc83b6-dd74-4ef3-921a-5ddf2e99aa3c",
   "metadata": {},
   "outputs": [],
   "source": [
    "tree = jl.Main.ROOTFile(\"./data/SMHiggsToZZTo4L.root\")"
   ]
  },
  {
   "cell_type": "code",
   "execution_count": null,
   "id": "b12149dd-4c9a-43d1-9b7f-c5827d8185c5",
   "metadata": {},
   "outputs": [],
   "source": [
    "%%julia\n",
    "\n",
    "tree = ROOTFile(\"./data/SMHiggsToZZTo4L.root\")\n",
    "events = LazyTree(tree, \"Events\")"
   ]
  },
  {
   "cell_type": "code",
   "execution_count": null,
   "id": "b7da9d68-4b27-4821-ac9f-a233107f6fe9",
   "metadata": {},
   "outputs": [],
   "source": [
    "%%julia\n",
    "\n",
    "using LorentzVectorHEP\n",
    "using Base.Threads\n",
    "\n",
    "function main_looper_over_vector(events)\n",
    "    # Pre-allocate an AwkwardArray to store Higgs mass values\n",
    "    array = Vector{Float64}(undef, length(events))  # Standard vector for simpler threading\n",
    "    count = Threads.Atomic{Int}(1)  # Use atomic integer to track valid entries across threads\n",
    "\n",
    "    @threads for i in 1:length(events)\n",
    "        evt = events[i]\n",
    "        \n",
    "        # Destructure the necessary fields from the event\n",
    "        (; Muon_charge::Vector{Float64}, Muon_pt::Vector{Float64}, Muon_eta::Vector{Float64}, \n",
    "            Muon_phi::Vector{Float64}, Muon_mass::Vector{Float64}) = evt\n",
    "\n",
    "        # Skip events that don't meet the required conditions\n",
    "        if length(Muon_charge) != 4 || sum(Muon_charge) != 0\n",
    "            continue\n",
    "        end\n",
    "\n",
    "        # Compute the Lorentz vector sum and Higgs mass\n",
    "        higgs_4vector = sum(LorentzVectorCyl.(Muon_pt, Muon_eta, Muon_phi, Muon_mass))\n",
    "        higgs_mass = mass(higgs_4vector)\n",
    "\n",
    "        # Use atomic operations to safely update the shared array\n",
    "        idx = Threads.atomic_add!(count, 1)\n",
    "        array[idx] = higgs_mass\n",
    "    end\n",
    "\n",
    "    # Return the portion of the array that contains valid results\n",
    "    return array[1:count[]-1]\n",
    "end"
   ]
  },
  {
   "cell_type": "code",
   "execution_count": null,
   "id": "96705539-07f9-485c-b2ee-98f0ad4d70be",
   "metadata": {},
   "outputs": [],
   "source": [
    "%%julia\n",
    "\n",
    "array = @time main_looper_over_vector(events)"
   ]
  },
  {
   "cell_type": "code",
   "execution_count": null,
   "id": "a913986d-2592-43f6-872f-2cd34ae0bc02",
   "metadata": {},
   "outputs": [],
   "source": [
    "%%julia\n",
    "\n",
    "using LorentzVectorHEP\n",
    "using Base.Threads\n",
    "\n",
    "function faster_main_looper_over_vector(events)\n",
    "    # Pre-allocate a results array with a large enough size for simpler threading\n",
    "    n_events = length(events)\n",
    "    max_results = div(n_events, Threads.nthreads()) + 1\n",
    "    thread_results = [Vector{Float64}(undef, max_results) for _ in 1:Threads.nthreads()]\n",
    "\n",
    "    # Thread-local counters\n",
    "    thread_counts = fill(1, Threads.nthreads())\n",
    "\n",
    "    @threads for i in 1:n_events\n",
    "        evt = events[i]\n",
    "\n",
    "        # Destructure the necessary fields from the event\n",
    "        (; Muon_charge::Vector{Float64}, Muon_pt::Vector{Float64}, Muon_eta::Vector{Float64}, \n",
    "            Muon_phi::Vector{Float64}, Muon_mass::Vector{Float64}) = evt\n",
    "\n",
    "        # Skip invalid events\n",
    "        if length(Muon_charge) != 4 || sum(Muon_charge) != 0\n",
    "            continue\n",
    "        end\n",
    "\n",
    "        # Compute the Lorentz vector sum and Higgs mass\n",
    "        higgs_4vector = sum(LorentzVectorCyl.(Muon_pt, Muon_eta, Muon_phi, Muon_mass))\n",
    "        higgs_mass = mass(higgs_4vector)\n",
    "\n",
    "        # Each thread writes to its own result array\n",
    "        tid = threadid()\n",
    "        thread_results[tid][thread_counts[tid]] = higgs_mass\n",
    "        thread_counts[tid] += 1\n",
    "    end\n",
    "\n",
    "    # Combine results from all threads into a single array\n",
    "    final_result = vcat([thread_results[tid][1:thread_counts[tid]-1] for tid in 1:Threads.nthreads()]...)\n",
    "\n",
    "    return final_result\n",
    "end"
   ]
  },
  {
   "cell_type": "code",
   "execution_count": null,
   "id": "bf93bf07-5def-419b-9bd7-76a1666b115c",
   "metadata": {},
   "outputs": [],
   "source": [
    "%%julia\n",
    "\n",
    "array = @time faster_main_looper_over_vector(events)"
   ]
  },
  {
   "cell_type": "code",
   "execution_count": null,
   "id": "df274a15-cae5-44d7-b7c6-80d130da3f1e",
   "metadata": {},
   "outputs": [],
   "source": [
    "%%julia\n",
    "\n",
    "using LorentzVectorHEP\n",
    "using Base.Threads\n",
    "\n",
    "function even_faster_main_looper_over_vector(events)\n",
    "    # Pre-allocate a results array with a large enough size for simpler threading\n",
    "    n_events = length(events)\n",
    "    max_results = div(n_events, Threads.nthreads()) + 1\n",
    "    thread_results = [Vector{Float64}(undef, max_results) for _ in 1:Threads.nthreads()]\n",
    "\n",
    "    # Thread-local counters\n",
    "    thread_counts = fill(1, Threads.nthreads())\n",
    "\n",
    "    @threads for i in 1:n_events\n",
    "        evt = events[i]\n",
    "\n",
    "        # Destructure the necessary fields from the event\n",
    "        (; Muon_charge::Vector{Float64}, Muon_pt::Vector{Float64}, Muon_eta::Vector{Float64}, \n",
    "            Muon_phi::Vector{Float64}, Muon_mass::Vector{Float64}) = evt\n",
    "        # (; Muon_charge, Muon_pt, Muon_eta, Muon_phi, Muon_mass) = evt\n",
    "\n",
    "        # Skip invalid events\n",
    "        if length(Muon_charge) != 4 || sum(Muon_charge) != 0\n",
    "            continue\n",
    "        end\n",
    "\n",
    "        # Compute the Lorentz vector sum and Higgs mass\n",
    "        higgs_4vector = sum(LorentzVectorCyl.(Muon_pt, Muon_eta, Muon_phi, Muon_mass))\n",
    "        higgs_mass = mass(higgs_4vector)\n",
    "\n",
    "        # Each thread writes to its own result array\n",
    "        tid = threadid()\n",
    "        thread_results[tid][thread_counts[tid]] = higgs_mass\n",
    "        thread_counts[tid] += 1\n",
    "    end\n",
    "\n",
    "    # Combine results from all threads into a single array\n",
    "    final_result = vcat([thread_results[tid][1:thread_counts[tid]-1] for tid in 1:Threads.nthreads()]...)\n",
    "\n",
    "    return final_result\n",
    "end"
   ]
  },
  {
   "cell_type": "code",
   "execution_count": null,
   "id": "88b5060b-0f21-4feb-9b45-f2c1c9fa51e4",
   "metadata": {},
   "outputs": [],
   "source": [
    "%%julia\n",
    "\n",
    "array = @time even_faster_main_looper_over_vector(events)"
   ]
  },
  {
   "cell_type": "code",
   "execution_count": null,
   "id": "d69b38b7-26ad-431b-ba8f-c44d171a5739",
   "metadata": {},
   "outputs": [],
   "source": [
    "%%julia\n",
    "\n",
    "array = @time main_looper_over_vector(events)"
   ]
  },
  {
   "cell_type": "code",
   "execution_count": null,
   "id": "cbd8f5b3-beee-4bc6-ac49-a0884a2be29b",
   "metadata": {},
   "outputs": [],
   "source": [
    "%%julia\n",
    "\n",
    "typeof(events)"
   ]
  },
  {
   "cell_type": "code",
   "execution_count": null,
   "id": "96f7f511-35ef-4fc3-a7cb-da0e0d7f0b4e",
   "metadata": {},
   "outputs": [],
   "source": [
    "%%julia\n",
    "\n",
    "using AwkwardArray\n",
    "using Base.Threads\n",
    "\n",
    "function main_looper_awkward(events)\n",
    "    array = AwkwardArray.PrimitiveArray{Float64}()\n",
    "    lock_obj = ReentrantLock()  # Create a lock object to control access to shared array\n",
    "\n",
    "    @threads for i in 1:length(events)\n",
    "        evt = events[i]\n",
    "\n",
    "        # Destructure the necessary fields from the event\n",
    "        (; Muon_charge, Muon_pt, Muon_eta, Muon_phi, Muon_mass) = evt\n",
    "\n",
    "        # Skip event if it doesn't meet the required conditions\n",
    "        if length(Muon_charge) != 4 || sum(Muon_charge) != 0\n",
    "            continue\n",
    "        end\n",
    "\n",
    "        # Create Lorentz vectors for the muons and calculate the Higgs mass\n",
    "        higgs_4vector = sum(LorentzVectorCyl.(Muon_pt, Muon_eta, Muon_phi, Muon_mass))\n",
    "        higgs_mass = mass(higgs_4vector)\n",
    "\n",
    "        # Use lock to safely push! into the shared array\n",
    "        lock(lock_obj)  # Explicitly lock before modifying shared data\n",
    "        try\n",
    "            push!(array, higgs_mass)\n",
    "        finally\n",
    "            unlock(lock_obj)  # Ensure the lock is always released\n",
    "        end\n",
    "    end\n",
    "\n",
    "    return array\n",
    "end"
   ]
  },
  {
   "cell_type": "code",
   "execution_count": null,
   "id": "36adb864-1b1e-497a-b5fe-f711e165ab9f",
   "metadata": {},
   "outputs": [],
   "source": [
    "%%julia\n",
    "\n",
    "array = @time main_looper_awkward(events)"
   ]
  },
  {
   "cell_type": "code",
   "execution_count": null,
   "id": "61056b6e-bd3c-4443-86ec-668931ab5c27",
   "metadata": {},
   "outputs": [],
   "source": [
    "%%julia\n",
    "\n",
    "using LorentzVectorHEP\n",
    "using AwkwardArray\n",
    "using Base.Threads\n",
    "\n",
    "function main_looper(events)\n",
    "    # Create an empty AwkwardArray for storing the Higgs mass values\n",
    "    array = AwkwardArray.PrimitiveArray{Float64}()\n",
    "\n",
    "    # Loop over events and process only valid ones\n",
    "    @threads for i in 1:length(events)\n",
    "        evt = events[i]\n",
    "\n",
    "        # Destructure the necessary fields from the event\n",
    "        (; Muon_charge, Muon_pt, Muon_eta, Muon_phi, Muon_mass) = evt\n",
    "\n",
    "        # Skip event if it doesn't meet the required conditions\n",
    "        if length(Muon_charge) != 4 || sum(Muon_charge) != 0\n",
    "            continue\n",
    "        end\n",
    "\n",
    "        # Create Lorentz vectors for the muons and calculate the Higgs mass\n",
    "        higgs_4vector = sum(LorentzVectorCyl.(Muon_pt, Muon_eta, Muon_phi, Muon_mass))\n",
    "        higgs_mass = mass(higgs_4vector)\n",
    "\n",
    "        # Add the result to the AwkwardArray\n",
    "        push!(array, higgs_mass)\n",
    "    end\n",
    "\n",
    "    # Return the final AwkwardArray containing Higgs masses\n",
    "    return array\n",
    "end"
   ]
  },
  {
   "cell_type": "code",
   "execution_count": null,
   "id": "a84c6580-e0e8-494b-bab2-0b4e74928453",
   "metadata": {},
   "outputs": [],
   "source": [
    "%%julia\n",
    "\n",
    "array = @time main_looper(events)"
   ]
  }
 ],
 "metadata": {
  "kernelspec": {
   "display_name": "Python 3 (ipykernel)",
   "language": "python",
   "name": "python3"
  },
  "language_info": {
   "codemirror_mode": {
    "name": "ipython",
    "version": 3
   },
   "file_extension": ".py",
   "mimetype": "text/x-python",
   "name": "python",
   "nbconvert_exporter": "python",
   "pygments_lexer": "ipython3",
   "version": "3.12.6"
  }
 },
 "nbformat": 4,
 "nbformat_minor": 5
}
